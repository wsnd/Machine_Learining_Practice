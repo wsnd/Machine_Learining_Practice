{
 "cells": [
  {
   "cell_type": "markdown",
   "metadata": {},
   "source": [
    "# 机器学习基础"
   ]
  },
  {
   "cell_type": "markdown",
   "metadata": {},
   "source": [
    "## numpy基础"
   ]
  },
  {
   "cell_type": "markdown",
   "metadata": {},
   "source": [
    "随机生成一个4X4的矩阵，以及求逆操作"
   ]
  },
  {
   "cell_type": "code",
   "execution_count": 5,
   "metadata": {},
   "outputs": [
    {
     "name": "stdout",
     "output_type": "stream",
     "text": [
      "[[0.53024099 0.0507495  0.55549901 0.7802177 ]\n",
      " [0.72919775 0.66158637 0.87937919 0.84501668]\n",
      " [0.45086298 0.19613448 0.67742387 0.29474226]\n",
      " [0.66020267 0.43687826 0.71760591 0.43100195]]\n"
     ]
    }
   ],
   "source": [
    "from numpy import *\n",
    "randMat = mat(random.rand(4, 4))\n",
    "print(randMat)"
   ]
  },
  {
   "cell_type": "code",
   "execution_count": 6,
   "metadata": {},
   "outputs": [
    {
     "name": "stdout",
     "output_type": "stream",
     "text": [
      "[[ 1.47994715 -3.50594011 -4.01290544  6.9388775 ]\n",
      " [-1.73011728  2.03655284 -1.13576079 -0.08421375]\n",
      " [-0.94618241  1.10791985  4.71891224 -3.68639948]\n",
      " [ 1.0621104   1.46137512 -0.55869641 -2.08558742]]\n"
     ]
    }
   ],
   "source": [
    "print(randMat.I)"
   ]
  },
  {
   "cell_type": "markdown",
   "metadata": {},
   "source": [
    "输出与对角矩阵的误差"
   ]
  },
  {
   "cell_type": "code",
   "execution_count": 8,
   "metadata": {},
   "outputs": [
    {
     "name": "stdout",
     "output_type": "stream",
     "text": [
      "[[ 0.00000000e+00 -4.44089210e-16 -1.11022302e-16  0.00000000e+00]\n",
      " [-1.11022302e-16 -1.11022302e-16  2.22044605e-16  2.22044605e-16]\n",
      " [-5.55111512e-17 -5.55111512e-17 -1.11022302e-16  1.11022302e-16]\n",
      " [-3.33066907e-16 -5.55111512e-16  3.60822483e-16  6.66133815e-16]]\n"
     ]
    }
   ],
   "source": [
    "invrandMat = randMat.I\n",
    "myEye = randMat * invrandMat\n",
    "print (myEye - eye(4))"
   ]
  }
 ],
 "metadata": {
  "kernelspec": {
   "display_name": "Python 3",
   "language": "python",
   "name": "python3"
  },
  "language_info": {
   "codemirror_mode": {
    "name": "ipython",
    "version": 3
   },
   "file_extension": ".py",
   "mimetype": "text/x-python",
   "name": "python",
   "nbconvert_exporter": "python",
   "pygments_lexer": "ipython3",
   "version": "3.8.5"
  }
 },
 "nbformat": 4,
 "nbformat_minor": 4
}
